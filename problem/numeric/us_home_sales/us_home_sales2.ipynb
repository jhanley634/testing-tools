{
 "cells": [
  {
   "cell_type": "code",
   "execution_count": 1,
   "id": "878f94b6",
   "metadata": {},
   "outputs": [],
   "source": [
    "from sklearn.linear_model import LinearRegression\n",
    "import matplotlib.pyplot as plt\n",
    "import numpy as np\n",
    "import pandas as pd\n",
    "import sklearn.datasets\n",
    "import sklearn.metrics\n",
    "import sklearn.model_selection"
   ]
  },
  {
   "cell_type": "code",
   "execution_count": 2,
   "id": "430f3997",
   "metadata": {},
   "outputs": [],
   "source": [
    "df = pd.read_csv('/tmp/us_home_sales.csv')\n",
    "df = df[df.saleprice < 4_000_000].reset_index()\n",
    "df = df[df.saledate < '2017-02-01'].reset_index()\n",
    "cols = 'saledate saleprice areabuilding bathcount'.split()\n",
    "df = df[cols]"
   ]
  },
  {
   "cell_type": "code",
   "execution_count": 3,
   "id": "9bcc18ab",
   "metadata": {},
   "outputs": [
    {
     "data": {
      "text/plain": [
       "2215000"
      ]
     },
     "execution_count": 3,
     "metadata": {},
     "output_type": "execute_result"
    }
   ],
   "source": [
    "df.saleprice.max()"
   ]
  },
  {
   "cell_type": "code",
   "execution_count": 4,
   "id": "e0079b5d",
   "metadata": {},
   "outputs": [],
   "source": [
    "x_train, x_test, y_train, y_test = sklearn.model_selection.train_test_split(\n",
    "    df[['areabuilding', 'bathcount']], df.saleprice, random_state=2)          "
   ]
  },
  {
   "cell_type": "code",
   "execution_count": 5,
   "id": "584e7aec",
   "metadata": {},
   "outputs": [
    {
     "data": {
      "text/plain": [
       "79186.9560243814"
      ]
     },
     "execution_count": 5,
     "metadata": {},
     "output_type": "execute_result"
    }
   ],
   "source": [
    "lr = LinearRegression()\n",
    "lr.fit(x_train, y_train)\n",
    "predicted = lr.predict(x_test)\n",
    "np.sum(np.abs(y_test - predicted)) / len(y_test)"
   ]
  },
  {
   "cell_type": "code",
   "execution_count": 6,
   "id": "7769ded6",
   "metadata": {},
   "outputs": [
    {
     "data": {
      "text/plain": [
       "<matplotlib.collections.PathCollection at 0x121ae35b0>"
      ]
     },
     "execution_count": 6,
     "metadata": {},
     "output_type": "execute_result"
    },
    {
     "data": {
      "image/png": "[encoded data removed]",
      "text/plain": [
       "<Figure size 432x288 with 1 Axes>"
      ]
     },
     "metadata": {
      "needs_background": "light"
     },
     "output_type": "display_data"
    }
   ],
   "source": [
    "fig, ax = plt.subplots()\n",
    "ax.scatter(y_test, predicted)"
   ]
  },
  {
   "cell_type": "code",
   "execution_count": null,
   "id": "ea9b8ec9",
   "metadata": {},
   "outputs": [],
   "source": []
  }
 ],
 "metadata": {
  "kernelspec": {
   "display_name": "Python 3 (ipykernel)",
   "language": "python",
   "name": "python3"
  },
  "language_info": {
   "codemirror_mode": {
    "name": "ipython",
    "version": 3
   },
   "file_extension": ".py",
   "mimetype": "text/x-python",
   "name": "python",
   "nbconvert_exporter": "python",
   "pygments_lexer": "ipython3",
   "version": "3.9.7"
  }
 },
 "nbformat": 4,
 "nbformat_minor": 5
}
